{
 "cells": [
  {
   "cell_type": "code",
   "execution_count": 1,
   "metadata": {},
   "outputs": [
    {
     "name": "stdout",
     "output_type": "stream",
     "text": [
      "{'P': 1, 'a': 4, 'r': 2, 's': 1, 'w': 1, 'l': 1}\n"
     ]
    }
   ],
   "source": [
    "string = \"Paras waral\"\n",
    "string1 = string.replace(\" \", \"\")\n",
    "frequency = {}\n",
    "\n",
    "for i in string1:\n",
    "    if frequency == {} or i not in frequency:\n",
    "        frequency[i] = 1\n",
    "    else:\n",
    "        frequency[i] += 1\n",
    "\n",
    "print(frequency)"
   ]
  },
  {
   "cell_type": "code",
   "execution_count": 8,
   "metadata": {},
   "outputs": [
    {
     "data": {
      "text/plain": [
       "{'P': 1, 'a': 4, 'l': 1, 'r': 2, 's': 1, 'w': 1}"
      ]
     },
     "execution_count": 8,
     "metadata": {},
     "output_type": "execute_result"
    }
   ],
   "source": [
    "sorted_dict = dict(sorted(frequency.items()))\n",
    "sorted_dict\n"
   ]
  }
 ],
 "metadata": {
  "kernelspec": {
   "display_name": "Python 3",
   "language": "python",
   "name": "python3"
  },
  "language_info": {
   "codemirror_mode": {
    "name": "ipython",
    "version": 3
   },
   "file_extension": ".py",
   "mimetype": "text/x-python",
   "name": "python",
   "nbconvert_exporter": "python",
   "pygments_lexer": "ipython3",
   "version": "3.13.0"
  }
 },
 "nbformat": 4,
 "nbformat_minor": 2
}
