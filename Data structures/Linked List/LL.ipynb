{
 "cells": [
  {
   "cell_type": "code",
   "execution_count": 14,
   "metadata": {},
   "outputs": [],
   "source": [
    "class Node:\n",
    "    def __init__(self, data = None, next = None):\n",
    "        self.data = data\n",
    "        self.next = next\n",
    "\n",
    "class LinkedList:\n",
    "    def __init__(self):\n",
    "        self.head = None\n",
    "    \n",
    "    # INSERT METHODS\n",
    "    def insert_at_begining(self, data):\n",
    "        node = Node(data = data, next = self.head) # Creating a new node \n",
    "        self.head = node # Update the head to the new node(Only for insert at begining)\n",
    "    \n",
    "    def insert_at_end(self, data):\n",
    "        if self.head is None:\n",
    "            self.head = Node(data, None)\n",
    "            return\n",
    "\n",
    "        itr = self.head\n",
    "        while itr.next:\n",
    "            itr = itr.next\n",
    "\n",
    "        itr.next = Node(data, None)\n",
    "\n",
    "    def insert_at_kth_position(self, data, k):\n",
    "        if k < 1:\n",
    "            print(\"Position should be 1 or greater\")\n",
    "            return\n",
    "\n",
    "        if k == 1:\n",
    "            self.insert_at_begining(data)\n",
    "            return\n",
    "\n",
    "        if k > self.get_length() + 1:\n",
    "            print(f\"Cannot insert at position {k}, as it is out of bounds.\")\n",
    "            return\n",
    "\n",
    "\n",
    "        if self.head is None:\n",
    "            print(\"Linked list is empty\")\n",
    "            return\n",
    "\n",
    "        count = 1\n",
    "        itr = self.head\n",
    "        dataItr = itr.data\n",
    "\n",
    "        while count < k-1 and itr:\n",
    "            itr = itr.next\n",
    "            count += 1\n",
    "\n",
    "        node = Node(data, itr.next)\n",
    "        itr.next = node\n",
    "\n",
    "    def insert_values(self, data_list):\n",
    "        self.head = None\n",
    "        for data in data_list:\n",
    "            self.insert_at_end(data)\n",
    "\n",
    "    def get_length(self):\n",
    "        count = 0\n",
    "        itr = self.head\n",
    "        while itr:\n",
    "            count += 1\n",
    "            itr = itr.next\n",
    "\n",
    "        return count\n",
    "    \n",
    "                \n",
    "    def print(self):\n",
    "        if self.head is None:\n",
    "            return \"Linked list is empty\"\n",
    "        \n",
    "        itr = self.head\n",
    "        listr = \"\"\n",
    "        while itr:\n",
    "            listr += f\"[{itr.data}] --> \" if itr.next else f\"[{itr.data}]\" \n",
    "            itr = itr.next\n",
    "\n",
    "        print(listr)"
   ]
  },
  {
   "cell_type": "code",
   "execution_count": 2,
   "metadata": {},
   "outputs": [],
   "source": [
    "ll = LinkedList()"
   ]
  },
  {
   "cell_type": "code",
   "execution_count": 6,
   "metadata": {},
   "outputs": [
    {
     "name": "stdout",
     "output_type": "stream",
     "text": [
      "[Apple] --> [Oragne] --> [kiwi]\n"
     ]
    }
   ],
   "source": [
    "ll.print()"
   ]
  },
  {
   "cell_type": "code",
   "execution_count": 5,
   "metadata": {},
   "outputs": [],
   "source": [
    "ll.insert_values([\"Apple\", \"Oragne\", \"kiwi\"])"
   ]
  },
  {
   "cell_type": "code",
   "execution_count": 12,
   "metadata": {},
   "outputs": [
    {
     "name": "stdout",
     "output_type": "stream",
     "text": [
      "[Peach] --> [Peach] --> [Peach] --> [Peach] --> [Apple] --> [Oragne] --> [kiwi]\n"
     ]
    }
   ],
   "source": []
  },
  {
   "cell_type": "code",
   "execution_count": null,
   "metadata": {},
   "outputs": [],
   "source": [
    "ll.remove_duplicates()"
   ]
  },
  {
   "cell_type": "code",
   "execution_count": 15,
   "metadata": {},
   "outputs": [
    {
     "name": "stdout",
     "output_type": "stream",
     "text": [
      "[Peach] --> [Apple] --> [Oragne] --> [kiwi]\n"
     ]
    }
   ],
   "source": [
    "ll.insert_values([\"Apple\", \"Oragne\", \"kiwi\"])\n",
    "ll.insert_at_kth_position(\"Peach\", 1)\n",
    "ll.print()"
   ]
  },
  {
   "cell_type": "code",
   "execution_count": 21,
   "metadata": {},
   "outputs": [
    {
     "name": "stdout",
     "output_type": "stream",
     "text": [
      "Cannot insert at position 5, as it is out of bounds.\n",
      "[Apple] --> [Oragne] --> [kiwi]\n"
     ]
    }
   ],
   "source": [
    "ll.insert_values([\"Apple\", \"Oragne\", \"kiwi\"])\n",
    "ll.insert_at_kth_position(\"Peach\", 5)\n",
    "ll.print()"
   ]
  },
  {
   "cell_type": "code",
   "execution_count": null,
   "metadata": {},
   "outputs": [],
   "source": []
  }
 ],
 "metadata": {
  "kernelspec": {
   "display_name": "Python 3",
   "language": "python",
   "name": "python3"
  },
  "language_info": {
   "codemirror_mode": {
    "name": "ipython",
    "version": 3
   },
   "file_extension": ".py",
   "mimetype": "text/x-python",
   "name": "python",
   "nbconvert_exporter": "python",
   "pygments_lexer": "ipython3",
   "version": "3.12.3"
  }
 },
 "nbformat": 4,
 "nbformat_minor": 2
}
